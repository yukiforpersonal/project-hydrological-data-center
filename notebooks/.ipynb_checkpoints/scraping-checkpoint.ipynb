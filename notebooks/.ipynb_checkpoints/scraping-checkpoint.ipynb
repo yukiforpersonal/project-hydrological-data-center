{
 "cells": [
  {
   "cell_type": "markdown",
   "metadata": {},
   "source": [
    "```\n",
    "水文水質データベース　Water Information System\n",
    "```\n",
    "　　　http://www1.river.go.jp/\n",
    "    \n",
    "```\n",
    "\n",
    "HP > 関連資料 > 水文観測業務規程細則\n",
    "を参考に、日本全国の国土交通省の公開する観測所データを集計。\n",
    "\n",
    "(2021年４月１３日作成)\n",
    "```"
   ]
  },
  {
   "cell_type": "code",
   "execution_count": null,
   "metadata": {
    "scrolled": false
   },
   "outputs": [],
   "source": [
    "import pandas as pd\n",
    "import requests\n",
    "from bs4 import BeautifulSoup\n",
    "import re\n",
    "from tqdm import tqdm\n",
    "import pickle"
   ]
  },
  {
   "cell_type": "code",
   "execution_count": null,
   "metadata": {},
   "outputs": [],
   "source": [
    "def access_MLIT_website(_id):\n",
    "    url=f\"http://www1.river.go.jp/cgi-bin/SiteInfo.exe?ID={_id}\"\n",
    "    r = requests.get(url)\n",
    "    soup = BeautifulSoup(r.content, \"html.parser\")\n",
    "    info_list=soup.find_all(\"tr\")\n",
    "    return info_list\n",
    "\n",
    "def exsistance_checker(info_list):\n",
    "    if len(info_list)>0:\n",
    "        return True\n",
    "    else:\n",
    "        False\n",
    "\n",
    "def find(info_list):\n",
    "    for info_name in info_list:\n",
    "        info_name_str=str(info_name)\n",
    "        print(re.findall('<td width=\"150\">(.*)</td>', info_name_str))"
   ]
  },
  {
   "cell_type": "code",
   "execution_count": null,
   "metadata": {},
   "outputs": [],
   "source": [
    "station_class_code_list=[str(i) for i in range(1,6)]\n",
    "\n",
    "basin_code_raw=pd.read_csv(\"basin_code_list.csv\",header=None).values[0,0]\n",
    "basin_code_list=basin_code_raw.split(\" \")\n",
    "basin_code_list.sort()\n",
    "\n",
    "jurisdiction_code_list=[\"12\",\"14\",\"19\"]\n",
    "\n",
    "station_number_code_list=[\"{0:03d}\".format(i) for i in range(0,1000,1)]"
   ]
  },
  {
   "cell_type": "code",
   "execution_count": null,
   "metadata": {
    "code_folding": []
   },
   "outputs": [],
   "source": [
    "jimusyo_code_raw_list=pd.read_csv(\"事務所.csv\",header=None).values[:,0]\n",
    "\n",
    "jimusyo_code_list=[]\n",
    "for jimusyo_code_raw in jimusyo_code_raw_list:\n",
    "    jimusyo_code_list.append(jimusyo_code_raw.split(\" \"))\n",
    "jimusyo_code_list_=[]\n",
    "for i in jimusyo_code_list:\n",
    "    for j in i:\n",
    "        jimusyo_code_list_.append(j)\n",
    "\n",
    "jimusyo_code_list_chosen=[]\n",
    "for i in jimusyo_code_list_:\n",
    "    try:\n",
    "        int(i)\n",
    "        jimusyo_code_list_chosen.append(i)\n",
    "    except:\n",
    "        pass\n",
    "\n",
    "jimusyo_code_list_chosen.sort()\n"
   ]
  },
  {
   "cell_type": "code",
   "execution_count": null,
   "metadata": {},
   "outputs": [],
   "source": [
    "local_bureau_code_list=[\"{0:02d}\".format(i) for i in range(81,91)]+[\"98\",\"99\"]"
   ]
  },
  {
   "cell_type": "code",
   "execution_count": null,
   "metadata": {},
   "outputs": [],
   "source": [
    "area_list=[\"北海道\",\"東北\",\"関東\",\"北陸\",\"中部\",\"近畿\",\"中国\",\"四国\",\"九州\"]"
   ]
  },
  {
   "cell_type": "code",
   "execution_count": null,
   "metadata": {},
   "outputs": [],
   "source": [
    "area_base_code_dict={i:{\"水系\":[],\"地方整備局\":[],\"事務所\":[],} for i in area_list}"
   ]
  },
  {
   "cell_type": "code",
   "execution_count": null,
   "metadata": {
    "scrolled": true
   },
   "outputs": [],
   "source": [
    "area_base_code_dict"
   ]
  },
  {
   "cell_type": "code",
   "execution_count": null,
   "metadata": {},
   "outputs": [],
   "source": [
    "for i in basin_code_list:\n",
    "    if i[:2]==\"01\":\n",
    "        area_base_code_dict[\"北海道\"][\"水系\"].append(i)\n",
    "    elif i[:2]==\"02\":\n",
    "        area_base_code_dict[\"東北\"][\"水系\"].append(i)\n",
    "    elif i[:2]==\"03\":\n",
    "        area_base_code_dict[\"関東\"][\"水系\"].append(i)\n",
    "    elif i[:2]==\"04\":\n",
    "        area_base_code_dict[\"北陸\"][\"水系\"].append(i)\n",
    "    elif i[:2]==\"05\":\n",
    "        area_base_code_dict[\"中部\"][\"水系\"].append(i)\n",
    "    elif i[:2]==\"06\":\n",
    "        area_base_code_dict[\"近畿\"][\"水系\"].append(i)\n",
    "    elif i[:2]==\"07\":\n",
    "        area_base_code_dict[\"中国\"][\"水系\"].append(i)\n",
    "    elif i[:2]==\"08\":\n",
    "        area_base_code_dict[\"四国\"][\"水系\"].append(i)\n",
    "    elif i[:2]==\"09\":\n",
    "        area_base_code_dict[\"九州\"][\"水系\"].append(i)\n"
   ]
  },
  {
   "cell_type": "code",
   "execution_count": null,
   "metadata": {},
   "outputs": [],
   "source": [
    "for i in local_bureau_code_list:\n",
    "    if i==\"81\":\n",
    "        area_base_code_dict[\"北海道\"][\"地方整備局\"].append(i)\n",
    "    elif i==\"82\":\n",
    "        area_base_code_dict[\"東北\"][\"地方整備局\"].append(i)\n",
    "    elif i==\"83\":\n",
    "        area_base_code_dict[\"関東\"][\"地方整備局\"].append(i)\n",
    "    elif i==\"84\":\n",
    "        area_base_code_dict[\"北陸\"][\"地方整備局\"].append(i)\n",
    "    elif i==\"85\":\n",
    "        area_base_code_dict[\"中部\"][\"地方整備局\"].append(i)\n",
    "    elif i==\"86\":\n",
    "        area_base_code_dict[\"近畿\"][\"地方整備局\"].append(i)\n",
    "    elif i==\"87\":\n",
    "        area_base_code_dict[\"中国\"][\"地方整備局\"].append(i)\n",
    "    elif i==\"88\":\n",
    "        area_base_code_dict[\"四国\"][\"地方整備局\"].append(i)\n",
    "    elif i==\"89\":\n",
    "        area_base_code_dict[\"九州\"][\"地方整備局\"].append(i)    "
   ]
  },
  {
   "cell_type": "code",
   "execution_count": null,
   "metadata": {},
   "outputs": [],
   "source": [
    "for i in jimusyo_code_list_chosen:\n",
    "    if i[0]==\"1\":\n",
    "        area_base_code_dict[\"北海道\"][\"事務所\"].append(i)\n",
    "    elif i[0]==\"2\":\n",
    "        area_base_code_dict[\"東北\"][\"事務所\"].append(i)\n",
    "    elif i[0]==\"3\":\n",
    "        area_base_code_dict[\"関東\"][\"事務所\"].append(i)\n",
    "    elif i[0]==\"4\":\n",
    "        area_base_code_dict[\"北陸\"][\"事務所\"].append(i)\n",
    "    elif i[0]==\"5\":\n",
    "        area_base_code_dict[\"中部\"][\"事務所\"].append(i)\n",
    "    elif i[0]==\"6\":\n",
    "        area_base_code_dict[\"近畿\"][\"事務所\"].append(i)\n",
    "    elif i[0]==\"7\":\n",
    "        area_base_code_dict[\"中国\"][\"事務所\"].append(i)\n",
    "    elif i[0]==\"8\":\n",
    "        area_base_code_dict[\"四国\"][\"事務所\"].append(i)\n",
    "    elif i[0]==\"9\":\n",
    "        area_base_code_dict[\"九州\"][\"事務所\"].append(i)\n"
   ]
  },
  {
   "cell_type": "code",
   "execution_count": null,
   "metadata": {},
   "outputs": [],
   "source": [
    "df=pd.DataFrame(columns=['観測所名','観測項目','観測所記号','水系名','河川名','所在地','緯度経度'])\n",
    "COUNTER=-1\n",
    "\"\"\"\n",
    "station_class_code\n",
    "1: 雨量\n",
    "3: 水位、流量\n",
    "\"\"\"\n",
    "for station_class_code in [1,3]:\n",
    "    for jurisdiction_code in jurisdiction_code_list:\n",
    "        for area in area_list:\n",
    "            basin_code_list=area_base_code_dict[area][\"水系\"]\n",
    "            local_bureau_code_list=area_base_code_dict[area][\"地方整備局\"]\n",
    "            jimusyo_code_list=area_base_code_dict[area][\"事務所\"]\n",
    "            for basin_code in basin_code_list:\n",
    "                for local_bureau_code in local_bureau_code_list:\n",
    "                    for jimusyo_code in jimusyo_code_list:\n",
    "                        for station_number_code in station_number_code_list:\n",
    "                            _id=f\"{station_class_code}{basin_code}{jurisdiction_code}{local_bureau_code}{jimusyo_code}{station_number_code}\"\n",
    "                            info_list=access_MLIT_website(_id)\n",
    "                            if exsistance_checker(info_list):\n",
    "                                COUNTER+=1\n",
    "                                for info in info_list:\n",
    "                                    info_str=str(info)\n",
    "                                    colname=re.findall('<td width=\"150\">(.*)</td>', info_str)\n",
    "                                    if exsistance_checker(colname):\n",
    "                                        if colname==[\"緯度経度\"]:\n",
    "                                            if station_class_code==3:\n",
    "                                                value=re.findall('<td align=\"LEFT\" colspan=\"2\">(.*)</td>', info_str)\n",
    "                                            else:\n",
    "                                                value=re.findall('<td align=\"LEFT\">(.*)</td>', info_str)\n",
    "                                        else:\n",
    "                                            value=re.findall('<td colspan=\"2\">(.*)</td>', info_str)\n",
    "                                        if value==[]:\n",
    "                                            value=\"\"\n",
    "                                        try:\n",
    "                                            df.loc[COUNTER,colname]=value\n",
    "                                        except KeyError:\n",
    "                                            pass\n",
    "                                        print(colname,value)    \n",
    "#             pickle.dump(df,open(f\"df_rain_{area}.pkl\",\"wb\"))\n",
    "#             pickle.dump(df,open(f\"df_level_flow_{area}.pkl\",\"wb\"))\n",
    "            pickle.dump(df,open(f\"df_rain_level_flow_2.pkl\",\"wb\"))"
   ]
  },
  {
   "cell_type": "code",
   "execution_count": null,
   "metadata": {},
   "outputs": [],
   "source": []
  }
 ],
 "metadata": {
  "kernelspec": {
   "display_name": "Python 3",
   "language": "python",
   "name": "python3"
  },
  "language_info": {
   "codemirror_mode": {
    "name": "ipython",
    "version": 3
   },
   "file_extension": ".py",
   "mimetype": "text/x-python",
   "name": "python",
   "nbconvert_exporter": "python",
   "pygments_lexer": "ipython3",
   "version": "3.6.9"
  },
  "toc": {
   "base_numbering": 1,
   "nav_menu": {},
   "number_sections": true,
   "sideBar": true,
   "skip_h1_title": false,
   "title_cell": "Table of Contents",
   "title_sidebar": "Contents",
   "toc_cell": false,
   "toc_position": {},
   "toc_section_display": true,
   "toc_window_display": false
  }
 },
 "nbformat": 4,
 "nbformat_minor": 5
}
